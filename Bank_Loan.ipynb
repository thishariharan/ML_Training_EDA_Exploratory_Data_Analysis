
# Done in Google Colab

# Importing Libraries
import matplotlib.pyplot as plt
import pandas as pnd
import numpy as np
import seaborn as sea


# Upload a Data
from google.colab import files
ds = pnd.read_excel('/content/sample_data/samplebankloandata.xlsx')

# Display first and last 5 rows of a Dataset
print(ds.head())
print(ds.tail())

# Display Data types of each fields/columns
print(ds.dtypes)

# Check Number of Null values present in each columns
print(ds.isnull().sum())

# Display the description of Dataset - Shows min-mean-max-and more
print(ds.describe())

# Display as Histogram - Shows Skewness, Outliers, General Cost range of the given Dataset
sea.histplot(data=ds,x='annual_inc',kde=True)
plt.title('Distribution of Annual Income')
plt.show()

# Display a Barchart - And Highlights most common types
sea.countplot(data=ds,x='loan_amount')
plt.xticks(rotation=45)
plt.title('Project Count by Loan Amount')
plt.show()


# Display a Bar Chart - That indicates the higher cost projects as Low to High

ds['term'] = ds['term'].str.replace(' months', '').astype(int)

sea.barplot(data=ds,x='home_ownership',y='term',estimator=np.mean)
plt.xticks(rotation=45)
plt.title('Average Terms based on Ownership')
plt.show()


# Project Status Distribution using Pie Chart with representation of Percentage
plt.pie(ds['home_ownership'].value_counts(),labels=ds['home_ownership'].value_counts().index,autopct = '%1.1f%%')
plt.title('Pie Based on the Ownership')
plt.show()


# # Correlation heatmap - Highlights Correlations between any numeric variables and identifying potential relationships or redundancies
# # Possible only with Numeric Valued cells
# numeric_df = ds.select_dtypes(include=['number'])
# cor = ds.corr()
# sea.heatmap(numeric_df,annot=True,cmap='coolwarm')
# plt.title('Correlation Heatmap')
# plt.show()

encoded_df = pnd.get_dummies(ds)

# Now, compute the correlation matrix
corr = encoded_df.corr()
sea.heatmap(corr, annot=True, cmap='coolwarm')
plt.title('Correlation Heatmap')
plt.show()


numeric_df = ds.select_dtypes(include=['number'])
corr = numeric_df.corr()
plt.figure(figsize=(10, 8))
sea.heatmap(corr, annot=True, cmap='coolwarm', fmt=".2f", linewidths=0.5)
plt.title('Correlation Heatmap', fontsize=16)
plt.xticks(fontsize=12)
plt.yticks(fontsize=12)
plt.show()



# Project Completion Percent(%) by Complexciety - Compares project completion percentage across different levels of complexity, checking if
sea.boxplot(data=ds,x='interest_rate',y='total_rec_prncp',showfliers=False)
plt.title('Box Plot from Interests')
plt.show()



# Scatter Plot - Cost vs Benefit
sea.scatterplot(data=ds,x='loan_amount',y='annual_inc')
plt.title('Scatter Plot - Loan Amount vs the Annual Income of a Individual')
plt.show()



# 3D Chart - Cost, Benefit, and Complexity -
# ds[' Project Benefit '] = ds[' Project Benefit '].str.replace(',', '').astype(float)
# from mpl_toolkits.mplot3d import Axes3D
# fig = plt.figure()
# ax = fig.add_subplot(111, projection='3d')
# ax.scatter(ds[' Project Cost '],ds[' Project Benefit '], ds['Complexity'])
# ax.set_xlabel('Project Cost')
# ax.set_ylabel('Project Benefit')
# ax.set_zlabel('Complexity')
# plt.title('3D Chart - Cost vs Benefit vs Complexity')
# plt.show()      , color='Project Type'

import plotly.express as px
fig = px.scatter_3d(ds, x='loan_amount', y='annual_inc', z='term', color='purpose')
fig.update_layout(scene = dict(
                    xaxis = dict(title  = 'Loan Amount'),
                    yaxis = dict(title  = 'Annual Income'),
                    zaxis = dict(title  = 'Term of Stay')))
fig.show()



import plotly.express as px
fig = px.scatter_3d(ds, x='annual_inc', y='region', z='installment',
                  color='purpose')
fig.update_layout(scene = dict(
                    xaxis = dict(title  = 'annual_inc'),
                    yaxis = dict(title  = 'region'),
                    zaxis = dict(title  = 'installment')))
fig.show()
