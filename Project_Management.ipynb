
# Done in Google Colab

# Importing Libraries
import matplotlib.pyplot as plt
import pandas as pnd
import numpy as np
import seaborn as sea

# Upload a Data
from google.colab import files
ds = pnd.read_csv('/content/sample_data/ML_ONE_CREDIT/Project Management Dataset.csv')

# Upload from Device
up = files.upload()
print(up.head())

# Display first and last 5 rows of a Dataset
print(ds.head())
print("Tail")
print(ds.tail())


# Display Data types of each fields/columns
print(ds.dtypes)

# Check Number of Null values present in each columns
print(ds.isnull().sum())

# Display the description of Dataset - Shows min-mean-max-and more
print(ds.describe())


# Display as Histogram - Shows Skewness, Outliers, General Cost range of the given Dataset
sea.histplot(data=ds,x=' Project Cost ',kde=True)
plt.title('Distribution of Project Cost')
plt.show()

# Display a Barchart - And Highlights most common types
sea.countplot(data=ds,x='Project Type')
plt.xticks(rotation=45)
plt.title('Project Count by Type')
plt.show()


# Display a Bar Chart - That indicates the higher cost projects as Low to High
sea.barplot(data=ds,x='Department',y=' Project Cost ',estimator=np.mean)
plt.xticks(rotation=45)
plt.title('Average Cost by Department')
plt.show()


# Project Status Distribution using Pie Chart with representation of Percentage
plt.pie(ds['Status'].value_counts(),labels=ds['Status'].value_counts().index,autopct = '%1.1f%%')
plt.title('Project Status Distribution')
plt.show()

# Correlation heatmap - Highlights Correlations between any numeric variables and identifying potential relationships or redundancies
# Possible only with Numeric Valued cells
cor = ds.corr()
sea.heatmap(numeric_df,annot=True,cmap='coolwarm')
plt.title('Correlation Heatmap')
plt.show()

# Project Completion Percent(%) by Complexciety - Compares project completion percentage across different levels of complexity, checking if
sea.boxplot(data=ds,x='Complexity',y='Completion%',showfliers=False)
plt.title('Project Completion % by Complexity')
plt.show()

# Cleaning of data - Removal of comma(,) from a Numeric Column
ds[' Project Cost '] = ds[' Project Cost '].str.replace(',', '').astype(float)

# TIme Series Analysis of Project Costs - Shows how total projects Cost vary  over time, identifying trends and seasonal patterns
ds['Year-Month'] = ds['Year'].astype(str)+'-'+ds['Month'].astype(str)
ds.groupby('Year-Month')[' Project Cost '].sum().plot()
plt.title('Monthly Project Cost Over Time')
plt.xticks(rotation=45)
plt.show()


numeric_df = ds.select_dtypes(include=['number'])


# Scatter Plot - Cost vs Benefit
sea.scatterplot(data=ds,x=' Project Cost ',y=' Project Benefit ')
plt.title('Scatter Plot - Cost vs Benefit')
plt.show()


# 3D Chart - Cost, Benefit, and Complexity -

ds[' Project Benefit '] = ds[' Project Benefit '].str.replace(',', '').astype(float)

# from mpl_toolkits.mplot3d import Axes3D
# fig = plt.figure()
# ax = fig.add_subplot(111, projection='3d')
# ax.scatter(ds[' Project Cost '],ds[' Project Benefit '], ds['Complexity'])
# ax.set_xlabel('Project Cost')
# ax.set_ylabel('Project Benefit')
# ax.set_zlabel('Complexity')
# plt.title('3D Chart - Cost vs Benefit vs Complexity')
# plt.show()

import plotly.express as px

fig = px.scatter_3d(ds, x=' Project Cost ', y=' Project Benefit ', z='Complexity', color='Project Type')
fig.update_layout(scene = dict(
                    xaxis = dict(title  = 'Project Cost'),
                    yaxis = dict(title  = 'Project Benefit'),
                    zaxis = dict(title  = 'Complexity')))
fig.show()



 # Comment Single line

 '''
Comment Multiple Lines
 '''
 print(5)
